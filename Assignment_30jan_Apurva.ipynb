{
 "cells": [
  {
   "cell_type": "code",
   "execution_count": 3,
   "id": "a5714521-fdb1-4a40-a0a2-f57151c6940a",
   "metadata": {},
   "outputs": [],
   "source": [
    "# 1. Write a program to accept percentage from the user and display the grade according to the following \n",
    "# criteria: \n",
    "# Marks            Grade\n",
    "# >90               A\n",
    "# >80 and <=90      B\n",
    "# >=60 and <=80     C\n",
    "# below 60          D\n",
    "\n"
   ]
  },
  {
   "cell_type": "code",
   "execution_count": 2,
   "id": "01e3d3b7-c7d1-4f85-8613-a3ca16cca38d",
   "metadata": {},
   "outputs": [
    {
     "name": "stdin",
     "output_type": "stream",
     "text": [
      "Please Enter Your Marks Percentage 95\n"
     ]
    },
    {
     "name": "stdout",
     "output_type": "stream",
     "text": [
      "Grade A\n"
     ]
    }
   ],
   "source": [
    "Marks = int(input(\"Please Enter Your Marks Percentage\"))\n",
    "if Marks >90:\n",
    "    print(\"Grade A\")\n",
    "elif Marks >80 and Marks <=90:\n",
    "    print(\"Grade B\")\n",
    "elif Marks >=60 and Marks <=80:\n",
    "    print(\"Grade C\")\n",
    "else:\n",
    "    print(\"Grade D\")"
   ]
  },
  {
   "cell_type": "code",
   "execution_count": 4,
   "id": "ef302a40-c752-4375-8981-9659fcf9ad96",
   "metadata": {},
   "outputs": [],
   "source": [
    "# 2. Write a program to accept the cost price of a bike and display the road tax to be paid according to the following criteria:\n",
    "# Tax            Cost Price(in RS)\n",
    "# 15%            >100000\n",
    "# 10%            >50000 and <=100000\n",
    "# 5%             <=50000"
   ]
  },
  {
   "cell_type": "code",
   "execution_count": 9,
   "id": "5b5f9c97-328e-4d07-820b-82d8b881132a",
   "metadata": {},
   "outputs": [
    {
     "name": "stdin",
     "output_type": "stream",
     "text": [
      "Please Enter The Cost Price of Your Bike 56000\n"
     ]
    },
    {
     "name": "stdout",
     "output_type": "stream",
     "text": [
      "You have to pay 5600.0\n"
     ]
    }
   ],
   "source": [
    "Price = int(input(\"Please Enter The Cost Price of Your Bike\"))\n",
    "if Price >100000 :\n",
    "    print(\"You Have to pay\",Price*0.15)\n",
    "elif Price >50000 and Price <=100000:\n",
    "    print(\"You have to pay\",Price*0.10)\n",
    "elif Price <=50000:\n",
    "    print(\"You have to pay\",Price*0.05)\n"
   ]
  },
  {
   "cell_type": "code",
   "execution_count": 11,
   "id": "43cbbacf-4217-4df7-8898-ca6126d9e5e7",
   "metadata": {},
   "outputs": [],
   "source": [
    "# 3.Accept any city from the user and display monuments of that city.\n",
    "# City         Monument\n",
    "# Delhi        Red Fort\n",
    "# Agra         Taj Mahal\n",
    "# Jaipur       Jal Mahal"
   ]
  },
  {
   "cell_type": "code",
   "execution_count": 16,
   "id": "70810c68-bc31-4b59-952e-35c8add71c7c",
   "metadata": {},
   "outputs": [
    {
     "name": "stdin",
     "output_type": "stream",
     "text": [
      "Please enter your city Name Delhi\n"
     ]
    },
    {
     "name": "stdout",
     "output_type": "stream",
     "text": [
      "Red Fort\n"
     ]
    }
   ],
   "source": [
    "City = str(input(\"Please enter your city Name\"))\n",
    "if City == \"Delhi\":\n",
    "    print(\"Red Fort\")\n",
    "elif City == \"Agra\":\n",
    "    print(\"Taj Mahal\")\n",
    "elif City == \"Jaipur\":\n",
    "    print(\"Jal Mahal\")\n",
    "else:\n",
    "    print(\"Invalid City\")"
   ]
  },
  {
   "cell_type": "code",
   "execution_count": 17,
   "id": "e7a55cf6-f895-4269-bba0-3bc7203bff44",
   "metadata": {},
   "outputs": [],
   "source": [
    "# 4.Check how many times a given number can be divided by 3 before it is less than or equal to 10."
   ]
  },
  {
   "cell_type": "code",
   "execution_count": 7,
   "id": "eceff6aa-f1b7-484c-842b-c4c4208160ac",
   "metadata": {},
   "outputs": [
    {
     "name": "stdin",
     "output_type": "stream",
     "text": [
      "Please enter your no 3000\n"
     ]
    },
    {
     "name": "stdout",
     "output_type": "stream",
     "text": [
      "6\n"
     ]
    }
   ],
   "source": [
    "number = int(input(\"Please enter your no\"))\n",
    "counter = 0\n",
    "while number >= 10:\n",
    "    number = number/3\n",
    "    counter = counter + 1\n",
    "print(counter)"
   ]
  },
  {
   "cell_type": "code",
   "execution_count": 19,
   "id": "30e05dce-2953-4324-af0e-7ebc6479a05c",
   "metadata": {},
   "outputs": [],
   "source": [
    "#5. Why and When to Use while Loop in Python give a detailed description with example."
   ]
  },
  {
   "cell_type": "code",
   "execution_count": 3,
   "id": "a03679d1-b142-49bf-81af-4759e6e83f72",
   "metadata": {},
   "outputs": [
    {
     "name": "stdout",
     "output_type": "stream",
     "text": [
      "1\n",
      "2\n",
      "3\n",
      "4\n",
      "5\n",
      "6\n",
      "7\n",
      "8\n",
      "9\n",
      "10\n"
     ]
    },
    {
     "data": {
      "text/plain": [
       "'in this block of code the condition <=10 is evaluated before each iteration of the loop. If the condition is true, the loop is executed, and the value of the counter is incremented by 1. Once the counter value becomes equal to 10, the condition becomes false, and the loop terminates.'"
      ]
     },
     "execution_count": 3,
     "metadata": {},
     "output_type": "execute_result"
    }
   ],
   "source": [
    "\"\"\"while loop is used to run a block of code untill a certain creteria is met.\"\"\"\n",
    "#for example \n",
    "a = 1\n",
    "\n",
    "while a <= 10:\n",
    "    print(a)\n",
    "    a = a+1\n",
    "\"\"\"in this block of code the condition <=10 is evaluated before each iteration of the loop. If the condition is true, the loop is executed, and the value of the counter is incremented by 1. Once the counter value becomes equal to 10, the condition becomes false, and the loop terminates.\"\"\""
   ]
  },
  {
   "cell_type": "code",
   "execution_count": 20,
   "id": "f22f43e2-7143-476f-98c2-18436fb2bb36",
   "metadata": {},
   "outputs": [],
   "source": [
    "# 6. Use nested while loop to print 3 different pattern. "
   ]
  },
  {
   "cell_type": "code",
   "execution_count": 5,
   "id": "25d1b1f9-0061-4663-8aa1-952062c9ed70",
   "metadata": {},
   "outputs": [
    {
     "name": "stdout",
     "output_type": "stream",
     "text": [
      "A\n",
      "AA\n",
      "AAA\n",
      "AAAA\n",
      "AAAAA\n",
      "AAAAA\n",
      "AAAA\n",
      "AAA\n",
      "AA\n",
      "A\n",
      "     A\n",
      "    AA\n",
      "   AAA\n",
      "  AAAA\n",
      " AAAAA\n"
     ]
    }
   ],
   "source": [
    "# Pattern 1:\n",
    "i = 1\n",
    "while i <= 5:\n",
    "    j = 1\n",
    "    while j <= i:\n",
    "        print(\"A\", end=\"\")\n",
    "        j = j + 1\n",
    "    print(\"\")\n",
    "    i = i + 1\n",
    "\n",
    "# Pattern 2:\n",
    "i = 5\n",
    "while i >= 1:\n",
    "    j = 1\n",
    "    while j <= i:\n",
    "        print(\"A\", end=\"\")\n",
    "        j = j + 1\n",
    "    print(\"\")\n",
    "    i = i - 1\n",
    "\n",
    "\n",
    "# Pattern 3:\n",
    "i = 1\n",
    "while i <= 5:\n",
    "    j = 5\n",
    "    while j >= i:\n",
    "        print(\" \", end=\"\")\n",
    "        j = j - 1\n",
    "    k = 1\n",
    "    while k <= i:\n",
    "        print(\"A\", end=\"\")\n",
    "        k = k + 1\n",
    "    print(\"\")\n",
    "    i = i + 1\n"
   ]
  },
  {
   "cell_type": "code",
   "execution_count": 21,
   "id": "27478c9a-256e-4759-b351-48e541e264d3",
   "metadata": {},
   "outputs": [],
   "source": [
    "# 7. Reverse a while loop to display numbers from 10 to 1."
   ]
  },
  {
   "cell_type": "code",
   "execution_count": 13,
   "id": "d1f7380f-e640-42a5-b562-54b14f9ce340",
   "metadata": {},
   "outputs": [
    {
     "name": "stdout",
     "output_type": "stream",
     "text": [
      "10\n",
      "9\n",
      "8\n",
      "7\n",
      "6\n",
      "5\n",
      "4\n",
      "3\n",
      "2\n",
      "1\n"
     ]
    }
   ],
   "source": [
    "i = 10\n",
    "while i > 0:\n",
    "    print(i)\n",
    "    i=i-1"
   ]
  },
  {
   "cell_type": "code",
   "execution_count": 22,
   "id": "bca1a643-d895-4776-ba7a-14eea1e34ade",
   "metadata": {},
   "outputs": [],
   "source": [
    "# 8. Reverse a while loop to display numbers from 10 to 1."
   ]
  },
  {
   "cell_type": "code",
   "execution_count": 14,
   "id": "012fcca0-183d-49ae-9f66-1d4588ecd987",
   "metadata": {},
   "outputs": [
    {
     "name": "stdout",
     "output_type": "stream",
     "text": [
      "10\n",
      "9\n",
      "8\n",
      "7\n",
      "6\n",
      "5\n",
      "4\n",
      "3\n",
      "2\n",
      "1\n"
     ]
    }
   ],
   "source": [
    "i = 10\n",
    "while i > 0:\n",
    "    print(i)\n",
    "    i=i-1"
   ]
  },
  {
   "cell_type": "code",
   "execution_count": null,
   "id": "22a37123-6e9d-4c3c-a577-4cb3f820b048",
   "metadata": {},
   "outputs": [],
   "source": []
  }
 ],
 "metadata": {
  "kernelspec": {
   "display_name": "Python 3 (ipykernel)",
   "language": "python",
   "name": "python3"
  },
  "language_info": {
   "codemirror_mode": {
    "name": "ipython",
    "version": 3
   },
   "file_extension": ".py",
   "mimetype": "text/x-python",
   "name": "python",
   "nbconvert_exporter": "python",
   "pygments_lexer": "ipython3",
   "version": "3.10.6"
  }
 },
 "nbformat": 4,
 "nbformat_minor": 5
}
